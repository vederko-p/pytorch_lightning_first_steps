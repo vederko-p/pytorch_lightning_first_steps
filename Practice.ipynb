{
 "cells": [
  {
   "cell_type": "markdown",
   "id": "2f964c31-1525-4b1a-84d4-5c5879537ab3",
   "metadata": {},
   "source": [
    "# Introduction"
   ]
  },
  {
   "attachments": {
    "71b0c6cc-6731-4a7b-91d7-6b0704ad6b80.png": {
     "image/png": "[encoded data removed]"
    }
   },
   "cell_type": "markdown",
   "id": "5cfc12f9-a729-427f-8f80-ce0a9510e9fc",
   "metadata": {},
   "source": [
    "PyTorch - одно из самых популярных решений для глубокого обучения, вокруг которого построены обсуждаемые инструменты.\n",
    "\n",
    "Одна из общераспространенных практик его использования - конструировать и обучать модели на PyTorch, а при переходе в прод, для инференса\n",
    "конвертировать их в другие форматы, например в ONNX, и использовать далее за пределами PyTorch.\n",
    "\n",
    "Как правило, процесс обучения моделей не сильно отличается от модели к модели, из кода в код кочуют так называемые `boiler plates` - части функционала, которые не меняются от обучения к обучению. Яркие примеры:\n",
    "\n",
    "- указание девайсов \n",
    "- вычисление градиента\n",
    "- градиентный шаг\n",
    "- очистка градиента\n",
    "\n",
    "Что касается общих структур, как правило, всем нужно одно и то же:\n",
    "\n",
    "- настройка оптимайзеров и параметров обучения\n",
    "- логирование лосов и метрик\n",
    "- перевод моделей в другие форматы\n",
    "\n",
    "Естественно какие-то конкретные вещи могут меняться от обучения к обучению и всегда есть необходимость внесения своих правок в процесс обучения. PyTorch Lightning - это фреймворк для обучения, настройки и деплоя моделей глубокого обучения. Фреймворк состоит из трех основных пакетов:\n",
    "\n",
    "- PyTorch Lightning: Train and deploy PyTorch at scale.\n",
    "- Lightning Fabric: Expert control.\n",
    "- Lightning Apps: Build AI products and ML workflows.\n",
    "\n",
    "Фреймворк дает детальный контроль уровня необходимых абстракций над PyTorch'ом. Он позволяет инкапсулировать boiler plate части кода, при этом сохраняя возможность гибкой настройки отдельных элементов при необходимости:\n",
    "\n",
    "![lightning_granular_control.png](attachment:71b0c6cc-6731-4a7b-91d7-6b0704ad6b80.png)\n",
    "\n",
    "PyTorch Lightning является частью коллекции инструментов Lightning AI, в\n",
    "которую входят:\n",
    "\n",
    "- Pytorch Lightning - Pretrain, finetune and deploy AI models on multiple GPUs, TPUs with zero code changes.\n",
    "- Torchmetrics - Machine learning metrics for distributed, scalable PyTorch applications.\n",
    "- Lit-LLama - Implementation of the LLaMA language model based on nanoGPT.\n",
    "- Lit-GPT - Hackable implementation of state-of-the-art open-source LLMs based on nanoGPT.\n",
    "\n",
    "Полезные ссылки:\n",
    "\n",
    "- [Lightning AI](https://lightning.ai/)\n",
    "- [PyTorch Lightning Website](https://lightning.ai/pytorch-lightning/)\n",
    "- [Lightning GitHub](https://github.com/Lightning-AI/lightning#pytorch-lightning-train-and-deploy-pytorch-at-scale)\n",
    "- [Lightning in 15 minutes](https://lightning.ai/docs/pytorch/stable/starter/introduction.html)\n",
    "- [Lightning Docs](https://lightning.ai/docs/pytorch/stable/)"
   ]
  },
  {
   "cell_type": "markdown",
   "id": "bf1ca361-289e-4815-8be7-7dd67c51f4b8",
   "metadata": {},
   "source": [
    "# 1. PyTorch Lightning"
   ]
  },
  {
   "cell_type": "markdown",
   "id": "40999e81-0354-4a35-a0ec-fef85c1faf9b",
   "metadata": {},
   "source": [
    "### Installation\n",
    "\n",
    "```Bash\n",
    "pip install lightning\n",
    "```"
   ]
  },
  {
   "cell_type": "markdown",
   "id": "130edbb1-baae-4315-8300-50baa6817f59",
   "metadata": {},
   "source": [
    "### MNIST Example. PyTorch"
   ]
  },
  {
   "cell_type": "code",
   "execution_count": 15,
   "id": "90fa70a5-fe71-49a3-b292-e3a4f5b7b897",
   "metadata": {},
   "outputs": [],
   "source": [
    "import torch\n",
    "import torch.nn as nn\n",
    "import torch.utils.data as data\n",
    "import torchvision as tv\n",
    "\n",
    "import matplotlib.pyplot as plt"
   ]
  },
  {
   "cell_type": "markdown",
   "id": "0ff2f88c-124f-4834-a0bc-3258e8b4d18b",
   "metadata": {},
   "source": [
    "Dataset:"
   ]
  },
  {
   "cell_type": "code",
   "execution_count": 16,
   "id": "d31e1f45-6e38-400d-bb61-8edeb8f6c1d4",
   "metadata": {
    "scrolled": true
   },
   "outputs": [],
   "source": [
    "dataset = tv.datasets.MNIST(\".\", download=True, transform=tv.transforms.ToTensor())\n",
    "mnist_train, mnist_val = data.random_split(dataset, [55000, 5000])\n",
    "\n",
    "mnist_train_dl = data.DataLoader(mnist_train, batch_size=16)\n",
    "mnist_val_dl = data.DataLoader(mnist_val, batch_size=16)"
   ]
  },
  {
   "cell_type": "markdown",
   "id": "f6a7ebcc-1fd7-448a-8101-ee3eb5d12c1f",
   "metadata": {},
   "source": [
    "Model:"
   ]
  },
  {
   "cell_type": "code",
   "execution_count": 17,
   "id": "70c088ae-e7b3-475f-a891-36f4a99667fc",
   "metadata": {},
   "outputs": [],
   "source": [
    "class PyTorchAutoEncoder(nn.Module):\n",
    "    def __init__(self):\n",
    "        super().__init__()\n",
    "        self.encoder = nn.Sequential(nn.Linear(28 * 28, 64), nn.ReLU(), nn.Linear(64, 3))\n",
    "        self.decoder = nn.Sequential(nn.Linear(3, 64), nn.ReLU(), nn.Linear(64, 28 * 28))\n",
    "\n",
    "    def forward(self, x):\n",
    "        encoded = self.encoder(x)\n",
    "        decoded = self.decoder(encoded)\n",
    "        return decoded"
   ]
  },
  {
   "cell_type": "code",
   "execution_count": 18,
   "id": "dbc95166-7054-4f04-b89a-de906975293e",
   "metadata": {},
   "outputs": [],
   "source": [
    "pytorch_autoencoder = PyTorchAutoEncoder()"
   ]
  },
  {
   "cell_type": "markdown",
   "id": "7f6eb482-eb6d-47ee-a130-7b772cd10690",
   "metadata": {},
   "source": [
    "Optimizer:"
   ]
  },
  {
   "cell_type": "code",
   "execution_count": 19,
   "id": "6c93e381-a074-4479-9cc3-a2a84951ab56",
   "metadata": {},
   "outputs": [],
   "source": [
    "optimizer = torch.optim.Adam(pytorch_autoencoder.parameters(), lr=1e-3)"
   ]
  },
  {
   "cell_type": "markdown",
   "id": "bddca597-eb40-437d-9a22-70727b99cda3",
   "metadata": {},
   "source": [
    "Train Loop:"
   ]
  },
  {
   "cell_type": "code",
   "execution_count": 20,
   "id": "363ea2bc-b7d0-43cb-9b1e-9bcb3c6dde27",
   "metadata": {},
   "outputs": [],
   "source": [
    "EPOCHS = 1\n",
    "device = 'cuda' if torch.cuda.is_available() else 'cpu'\n",
    "\n",
    "pytorch_autoencoder.to(device)\n",
    "pytorch_autoencoder.train()\n",
    "\n",
    "batch_losses = []\n",
    "\n",
    "for epoch in range(EPOCHS):\n",
    "    for train_batch in mnist_train_dl:\n",
    "        x, y = train_batch\n",
    "        x = x.to(device)\n",
    "        x = x.view(x.size(0), -1)\n",
    "\n",
    "        z = pytorch_autoencoder.encoder(x)\n",
    "        x_hat = pytorch_autoencoder.decoder(z)\n",
    "        loss = nn.functional.mse_loss(x_hat, x)\n",
    "        batch_losses.append(loss.item())\n",
    "\n",
    "        loss.backward()\n",
    "        optimizer.step()\n",
    "        optimizer.zero_grad()"
   ]
  },
  {
   "cell_type": "code",
   "execution_count": 21,
   "id": "69b2cd72-6aab-4c05-93ff-dd0edbd4e3ea",
   "metadata": {},
   "outputs": [
    {
     "data": {
      "image/png": "[encoded data removed]",
      "text/plain": [
       "<Figure size 640x480 with 1 Axes>"
      ]
     },
     "metadata": {},
     "output_type": "display_data"
    }
   ],
   "source": [
    "plt.plot(batch_losses);"
   ]
  },
  {
   "cell_type": "markdown",
   "id": "e4f69757-5c2b-4b5f-b041-3301b2c5294c",
   "metadata": {},
   "source": [
    "Eval Loop:"
   ]
  },
  {
   "cell_type": "code",
   "execution_count": 22,
   "id": "3ba6c2f0-7d54-4e9c-81ae-d564bdf60a53",
   "metadata": {},
   "outputs": [
    {
     "name": "stdout",
     "output_type": "stream",
     "text": [
      "val_loss: 0.044\n"
     ]
    }
   ],
   "source": [
    "pytorch_autoencoder.eval()\n",
    "with torch.no_grad():\n",
    "    val_loss = []\n",
    "    for val_batch in mnist_val_dl:\n",
    "        x, y = val_batch\n",
    "        x = x.to(device)\n",
    "        x = x.view(x.size(0), -1)\n",
    "        z = pytorch_autoencoder.encoder(x)\n",
    "        x_hat = pytorch_autoencoder.decoder(z)\n",
    "        loss = nn.functional.mse_loss(x_hat, x)\n",
    "        val_loss.append(loss)\n",
    "    val_loss = torch.mean(torch.tensor(val_loss))\n",
    "    print(f'val_loss: {round(val_loss.item(), 3)}')\n",
    "    pytorch_autoencoder.train()"
   ]
  },
  {
   "cell_type": "markdown",
   "id": "4ac956ae-d956-4b09-aecc-1ce43fdbf29d",
   "metadata": {},
   "source": [
    "### MNIST Example. Lightning"
   ]
  },
  {
   "cell_type": "code",
   "execution_count": 23,
   "id": "16606ade-fde0-4b6c-b3ed-85bddb1f6c41",
   "metadata": {},
   "outputs": [],
   "source": [
    "import lightning as L"
   ]
  },
  {
   "cell_type": "markdown",
   "id": "4b3ff9d3-2690-447b-92e4-972a2196ccbd",
   "metadata": {},
   "source": [
    "Dataset:"
   ]
  },
  {
   "cell_type": "code",
   "execution_count": 24,
   "id": "cc44b08d-8cce-48f0-8cca-685f91543aff",
   "metadata": {},
   "outputs": [],
   "source": [
    "# --//--"
   ]
  },
  {
   "cell_type": "markdown",
   "id": "1e1347b1-4753-409a-a2e5-54bae352ab2b",
   "metadata": {},
   "source": [
    "Model:"
   ]
  },
  {
   "cell_type": "code",
   "execution_count": 30,
   "id": "405cb062-9879-4105-b4f4-12fe836810f8",
   "metadata": {},
   "outputs": [],
   "source": [
    "class LitAutoEncoder(L.LightningModule):\n",
    "    def __init__(self):\n",
    "        super().__init__()\n",
    "        self.encoder = nn.Sequential(nn.Linear(28 * 28, 128), nn.ReLU(), nn.Linear(128, 3))\n",
    "        self.decoder = nn.Sequential(nn.Linear(3, 128), nn.ReLU(), nn.Linear(128, 28 * 28))\n",
    "\n",
    "    def forward(self, x):\n",
    "        # in lightning, forward defines the prediction/inference actions\n",
    "        embedding = self.encoder(x)\n",
    "        return embedding\n",
    "\n",
    "    def training_step(self, batch, batch_idx):\n",
    "        # training_step defines the train loop. It is independent of forward\n",
    "        x, y = batch\n",
    "        x = x.view(x.size(0), -1)\n",
    "        z = self.encoder(x)\n",
    "        x_hat = self.decoder(z)\n",
    "        loss = nn.functional.mse_loss(x_hat, x)\n",
    "        self.log(\"train_loss\", loss)\n",
    "        return loss\n",
    "\n",
    "    def configure_optimizers(self):\n",
    "        optimizer = torch.optim.Adam(self.parameters(), lr=1e-3)\n",
    "        return optimizer\n",
    "\n",
    "    def validation_step(self, batch, batch_idx):\n",
    "        # To add a validation loop, implement the validation_step method of the LightningModule\n",
    "        x, y = batch\n",
    "        x = x.view(x.size(0), -1)\n",
    "        z = self.encoder(x)\n",
    "        x_hat = self.decoder(z)\n",
    "        val_loss = nn.functional.mse_loss(x_hat, x)\n",
    "        self.log(\"val_loss\", val_loss)"
   ]
  },
  {
   "cell_type": "markdown",
   "id": "06e5f737-c9c9-40fe-87b8-a7ed81c35500",
   "metadata": {},
   "source": [
    "Train:"
   ]
  },
  {
   "cell_type": "code",
   "execution_count": 34,
   "id": "b1483052-c6e1-4c6d-88a1-8f12ab54ad40",
   "metadata": {},
   "outputs": [
    {
     "name": "stderr",
     "output_type": "stream",
     "text": [
      "GPU available: True (cuda), used: True\n",
      "TPU available: False, using: 0 TPU cores\n",
      "IPU available: False, using: 0 IPUs\n",
      "HPU available: False, using: 0 HPUs\n",
      "LOCAL_RANK: 0 - CUDA_VISIBLE_DEVICES: [0]\n",
      "\n",
      "  | Name    | Type       | Params\n",
      "---------------------------------------\n",
      "0 | encoder | Sequential | 100 K \n",
      "1 | decoder | Sequential | 101 K \n",
      "---------------------------------------\n",
      "202 K     Trainable params\n",
      "0         Non-trainable params\n",
      "202 K     Total params\n",
      "0.810     Total estimated model params size (MB)\n"
     ]
    },
    {
     "data": {
      "application/vnd.jupyter.widget-view+json": {
       "model_id": "",
       "version_major": 2,
       "version_minor": 0
      },
      "text/plain": [
       "Sanity Checking: |                                                                                            …"
      ]
     },
     "metadata": {},
     "output_type": "display_data"
    },
    {
     "data": {
      "application/vnd.jupyter.widget-view+json": {
       "model_id": "f46fa30793764537b654111257bba396",
       "version_major": 2,
       "version_minor": 0
      },
      "text/plain": [
       "Training: |                                                                                                   …"
      ]
     },
     "metadata": {},
     "output_type": "display_data"
    },
    {
     "data": {
      "application/vnd.jupyter.widget-view+json": {
       "model_id": "",
       "version_major": 2,
       "version_minor": 0
      },
      "text/plain": [
       "Validation: |                                                                                                 …"
      ]
     },
     "metadata": {},
     "output_type": "display_data"
    },
    {
     "data": {
      "application/vnd.jupyter.widget-view+json": {
       "model_id": "",
       "version_major": 2,
       "version_minor": 0
      },
      "text/plain": [
       "Validation: |                                                                                                 …"
      ]
     },
     "metadata": {},
     "output_type": "display_data"
    },
    {
     "data": {
      "application/vnd.jupyter.widget-view+json": {
       "model_id": "",
       "version_major": 2,
       "version_minor": 0
      },
      "text/plain": [
       "Validation: |                                                                                                 …"
      ]
     },
     "metadata": {},
     "output_type": "display_data"
    },
    {
     "name": "stderr",
     "output_type": "stream",
     "text": [
      "`Trainer.fit` stopped: `max_epochs=3` reached.\n"
     ]
    }
   ],
   "source": [
    "lit_autoencoder = LitAutoEncoder()\n",
    "trainer = L.Trainer(max_epochs=3)\n",
    "trainer.fit(lit_autoencoder, mnist_train_dl, mnist_val_dl)"
   ]
  },
  {
   "cell_type": "markdown",
   "id": "467907a3-4713-4284-88b7-c0be64c8a80c",
   "metadata": {},
   "source": [
    "Visualize the Training Process:"
   ]
  },
  {
   "cell_type": "code",
   "execution_count": 35,
   "id": "c8ca24a1-d257-4274-a9c3-e42ca29d8b40",
   "metadata": {},
   "outputs": [
    {
     "name": "stdout",
     "output_type": "stream",
     "text": [
      "The tensorboard extension is already loaded. To reload it, use:\n",
      "  %reload_ext tensorboard\n"
     ]
    }
   ],
   "source": [
    "# Load the TensorBoard notebook extension\n",
    "%load_ext tensorboard"
   ]
  },
  {
   "cell_type": "code",
   "execution_count": 59,
   "id": "38ecfcbe-ada6-4791-9456-598d0dd16880",
   "metadata": {},
   "outputs": [
    {
     "data": {
      "text/plain": [
       "Reusing TensorBoard on port 6006 (pid 41858), started 1:22:02 ago. (Use '!kill 41858' to kill it.)"
      ]
     },
     "metadata": {},
     "output_type": "display_data"
    },
    {
     "data": {
      "text/html": [
       "\n",
       "      <iframe id=\"tensorboard-frame-1d512feaa3cc3411\" width=\"100%\" height=\"800\" frameborder=\"0\">\n",
       "      </iframe>\n",
       "      <script>\n",
       "        (function() {\n",
       "          const frame = document.getElementById(\"tensorboard-frame-1d512feaa3cc3411\");\n",
       "          const url = new URL(\"/\", window.location);\n",
       "          const port = 6006;\n",
       "          if (port) {\n",
       "            url.port = port;\n",
       "          }\n",
       "          frame.src = url;\n",
       "        })();\n",
       "      </script>\n",
       "    "
      ],
      "text/plain": [
       "<IPython.core.display.HTML object>"
      ]
     },
     "metadata": {},
     "output_type": "display_data"
    }
   ],
   "source": [
    "# Lightning trainer will create `lightning_logs` dir automaticly\n",
    "%tensorboard --logdir lightning_logs"
   ]
  },
  {
   "cell_type": "markdown",
   "id": "5a71a684-0ee5-49bc-8def-e9e9a3bae286",
   "metadata": {},
   "source": [
    "Model Evaluation:"
   ]
  },
  {
   "cell_type": "code",
   "execution_count": 37,
   "id": "c7de40c5-e401-4db8-b6b8-d7656b650395",
   "metadata": {},
   "outputs": [
    {
     "name": "stderr",
     "output_type": "stream",
     "text": [
      "LOCAL_RANK: 0 - CUDA_VISIBLE_DEVICES: [0]\n"
     ]
    },
    {
     "data": {
      "application/vnd.jupyter.widget-view+json": {
       "model_id": "b0e03b2788fd4a7fb74ee2cda95a9764",
       "version_major": 2,
       "version_minor": 0
      },
      "text/plain": [
       "Validation: |                                                                                                 …"
      ]
     },
     "metadata": {},
     "output_type": "display_data"
    },
    {
     "name": "stdout",
     "output_type": "stream",
     "text": [
      "────────────────────────────────────────────────────────────────────────────────────────────────────────────────────────\n",
      "     Validate metric           DataLoader 0\n",
      "────────────────────────────────────────────────────────────────────────────────────────────────────────────────────────\n",
      "        val_loss            0.03822116553783417\n",
      "────────────────────────────────────────────────────────────────────────────────────────────────────────────────────────\n"
     ]
    },
    {
     "data": {
      "text/plain": [
       "[{'val_loss': 0.03822116553783417}]"
      ]
     },
     "execution_count": 37,
     "metadata": {},
     "output_type": "execute_result"
    }
   ],
   "source": [
    "trainer.validate(model=lit_autoencoder, dataloaders=mnist_val_dl)"
   ]
  },
  {
   "cell_type": "markdown",
   "id": "a80fdf47-22d8-4d1d-b7ba-dad13374a7af",
   "metadata": {},
   "source": [
    "Use the Model:"
   ]
  },
  {
   "cell_type": "code",
   "execution_count": 6,
   "id": "032006c4-eab8-4fb6-bc3d-cd5ffab550a0",
   "metadata": {},
   "outputs": [
    {
     "name": "stdout",
     "output_type": "stream",
     "text": [
      "'epoch=0-step=3438.ckpt'\n"
     ]
    }
   ],
   "source": [
    "!ls lightning_logs/version_4/checkpoints"
   ]
  },
  {
   "cell_type": "code",
   "execution_count": 58,
   "id": "b2955ef6-e94c-4a7d-a059-3a7c95a1834c",
   "metadata": {},
   "outputs": [],
   "source": [
    "# manual checkpoint saving\n",
    "trainer.save_checkpoint('./lightning_logs/version_4/checkpoints/custom_save.ckpt')"
   ]
  },
  {
   "cell_type": "code",
   "execution_count": 7,
   "id": "ef85f2a8-3d6f-4a05-9511-9e5388dec5d3",
   "metadata": {},
   "outputs": [],
   "source": [
    "checkpoint = \"./lightning_logs/version_4/checkpoints/epoch=0-step=3438.ckpt\"\n",
    "autoencoder = LitAutoEncoder.load_from_checkpoint(checkpoint)"
   ]
  },
  {
   "cell_type": "code",
   "execution_count": 8,
   "id": "b5414be2-589f-4956-b839-27cbcb9298f1",
   "metadata": {},
   "outputs": [
    {
     "data": {
      "text/plain": [
       "Sequential(\n",
       "  (0): Linear(in_features=784, out_features=128, bias=True)\n",
       "  (1): ReLU()\n",
       "  (2): Linear(in_features=128, out_features=3, bias=True)\n",
       ")"
      ]
     },
     "execution_count": 8,
     "metadata": {},
     "output_type": "execute_result"
    }
   ],
   "source": [
    "encoder = autoencoder.encoder\n",
    "encoder.eval()"
   ]
  },
  {
   "cell_type": "code",
   "execution_count": 9,
   "id": "54cd09ba-0d45-4548-97ee-642519bcebfc",
   "metadata": {},
   "outputs": [],
   "source": [
    "fake_image_batch = torch.Tensor(4, 28 * 28).to('cuda')\n",
    "with torch.no_grad():\n",
    "    embeddings = encoder(fake_image_batch)"
   ]
  },
  {
   "cell_type": "code",
   "execution_count": 10,
   "id": "43948265-6dc1-4529-ac01-adde4f7468f1",
   "metadata": {},
   "outputs": [
    {
     "data": {
      "text/plain": [
       "tensor([[ 2.5665e+16,  3.9260e+17,  3.3382e+17],\n",
       "        [ 1.5007e+21,  1.4023e+21,  4.9495e+20],\n",
       "        [-2.3673e+15, -1.6974e+15,  3.5760e+15],\n",
       "        [ 2.0875e-01,  2.3807e-02,  7.0597e-02]], device='cuda:0')"
      ]
     },
     "execution_count": 10,
     "metadata": {},
     "output_type": "execute_result"
    }
   ],
   "source": [
    "embeddings"
   ]
  },
  {
   "cell_type": "markdown",
   "id": "9e24a726-42a5-4878-959e-f7aa03e7240f",
   "metadata": {},
   "source": [
    "Export the model in ONNX:"
   ]
  },
  {
   "cell_type": "code",
   "execution_count": 11,
   "id": "ccfaf1b9-eba0-45a9-a006-e18ed67e938f",
   "metadata": {},
   "outputs": [],
   "source": [
    "input_sample = torch.randn((1, 28 * 28))\n",
    "autoencoder.to_onnx('./autoencoder.onnx', input_sample, export_params=True)"
   ]
  },
  {
   "cell_type": "code",
   "execution_count": 47,
   "id": "c9a65abf-6185-4ab1-887c-758a645eeb85",
   "metadata": {},
   "outputs": [],
   "source": [
    "import numpy as np\n",
    "import onnxruntime"
   ]
  },
  {
   "cell_type": "code",
   "execution_count": 48,
   "id": "b8433aee-1e17-4cab-8a36-785c56ca4a94",
   "metadata": {},
   "outputs": [],
   "source": [
    "ort_session = onnxruntime.InferenceSession('./autoencoder.onnx')"
   ]
  },
  {
   "cell_type": "code",
   "execution_count": 56,
   "id": "531a04d5-73d7-48e0-b8b4-f27b5c636c64",
   "metadata": {},
   "outputs": [],
   "source": [
    "input_name = ort_session.get_inputs()[0].name\n",
    "ort_inputs = {input_name: np.random.randn(1, 28 * 28).astype(np.float32)}\n",
    "ort_outs = ort_session.run(None, ort_inputs)"
   ]
  },
  {
   "cell_type": "code",
   "execution_count": 57,
   "id": "0ca52c23-f1ae-49fc-aa7d-fa483cddd624",
   "metadata": {},
   "outputs": [
    {
     "data": {
      "text/plain": [
       "[array([[-0.3540863 ,  0.22646873,  1.9857447 ]], dtype=float32)]"
      ]
     },
     "execution_count": 57,
     "metadata": {},
     "output_type": "execute_result"
    }
   ],
   "source": [
    "ort_outs"
   ]
  },
  {
   "cell_type": "markdown",
   "id": "f9a79096-50ca-41f4-bb9a-d8d9d94b560f",
   "metadata": {},
   "source": [
    "### Lightning Trainer"
   ]
  },
  {
   "cell_type": "markdown",
   "id": "3be450ce-8cee-4873-af87-389fbb28dafe",
   "metadata": {},
   "source": [
    "[Lightning Trainer Docs](https://lightning.ai/docs/pytorch/stable/common/trainer.html)\n",
    "\n",
    "Что происходит под капотом `Trainer`:\n",
    "\n",
    "- автоматическое включение / отключение градиентов\n",
    "- вычисления на тренировочном, валидационном и тестовом даталоадерах\n",
    "- вызов callbacks в нужное время\n",
    "- распределение батчей и вычислений по корректным девайсам\n",
    "\n",
    "Trainer имеет 35 флагов, отвечающих за различные настройки процесса обучения. Интересные:\n",
    "\n",
    "- callbacks\n",
    "- fast_dev_run\n",
    "- gradient_clip\n",
    "- max_time\n",
    "- precision"
   ]
  },
  {
   "cell_type": "markdown",
   "id": "408ceef3-c193-4aa4-9fbc-09c32e864a38",
   "metadata": {},
   "source": [
    "# 2. PyTorch Lightning Fabric"
   ]
  },
  {
   "cell_type": "markdown",
   "id": "7db1e251-8885-471b-ad12-372d5fb708eb",
   "metadata": {},
   "source": [
    "Модуль `Fabric` позволяет быстро расширять чистый PyTorch код до возможности использования продвинутых инструментов, подобных `Lightning Trainer`, например:\n",
    "\n",
    "- обучение на нескольких девайсах\n",
    "- распределенное обучение\n",
    "- те же технические мелочи на подобии `.to`, `optimizer.step()`, ...\n",
    "\n",
    "Here are 4 easy steps to use Fabric in your PyTorch code.\n",
    "\n",
    "1. Create the Lightning Fabric object at the beginning of your script.\n",
    "\n",
    "2. Remove all ``.to`` and ``.cuda`` calls since Fabric will take care of it.\n",
    "\n",
    "3. Apply ``setup`` over each model and optimizers pair, ``setup_dataloaders`` on all your dataloaders,\n",
    "and replace ``loss.backward()`` with ``self.backward(loss)``.\n",
    "\n",
    "4. Run the script from the terminal using ``lightning run model path/to/train.py``\n",
    "\n",
    "Accelerate your training loop by setting the ``--accelerator``, ``--strategy``, ``--devices`` options directly from\n",
    "the command line. See ``lightning run model --help`` or learn more from the [documentation](https://lightning.ai/docs/fabric).\n",
    "\n",
    "Пример изменений в коде:\n",
    "\n",
    "```Python\n",
    "import torch\n",
    "  from lightning.pytorch.demos import WikiText2, Transformer\n",
    "  import lightning as L                                                  # +\n",
    "\n",
    "  device = torch.device(\"cuda\" if torch.cuda.is_available() else \"cpu\")  # -\n",
    "  fabric = L.Fabric(accelerator=\"cuda\", devices=8, strategy=\"ddp\")       # +\n",
    "  fabric.launch()                                                        # +\n",
    "\n",
    "  dataset = WikiText2()\n",
    "  dataloader = torch.utils.data.DataLoader(dataset)\n",
    "  model = Transformer(vocab_size=dataset.vocab_size)\n",
    "  optimizer = torch.optim.SGD(model.parameters(), lr=0.1)\n",
    "\n",
    "  model = model.to(device)                                               # -\n",
    "  model, optimizer = fabric.setup(model, optimizer)                      # +\n",
    "  dataloader = fabric.setup_dataloaders(dataloader)                      # +\n",
    "\n",
    "  model.train()\n",
    "  for epoch in range(20):\n",
    "      for batch in dataloader:\n",
    "          input, target = batch\n",
    "          input, target = input.to(device), target.to(device)            # -\n",
    "          optimizer.zero_grad()\n",
    "          output = model(input, target)\n",
    "          loss = torch.nn.functional.nll_loss(output, target.view(-1))\n",
    "          loss.backward()                                                # -\n",
    "          fabric.backward(loss)                                          # +\n",
    "          optimizer.step()\n",
    "```\n",
    "\n",
    "[More Examples](https://lightning.ai/docs/fabric/stable/examples/)."
   ]
  },
  {
   "cell_type": "markdown",
   "id": "53f97aa3-f2e5-4138-b005-cb74cfc195a1",
   "metadata": {},
   "source": [
    "# 3. Lightning Apps"
   ]
  },
  {
   "cell_type": "markdown",
   "id": "19d39a63-d430-4d13-b241-0b098067d781",
   "metadata": {},
   "source": [
    "Модуль `Lightning Apps` позволяет избавиться от cloud infrastructure boilerplate, что позволяет сфокусироваться на решении исследовательских или бизнес задач. `Lightning Apps` может быть запущен на:\n",
    "\n",
    "- `Lightning Cloud`\n",
    "- собственном кластере\n",
    "- в приватном облаке\n",
    "\n",
    "Документация:\n",
    "- [Lightning Apps Docs](https://lightning.ai/docs/app/stable/)\n",
    "- [Serving Scikit Learni Models](https://mlserver.readthedocs.io/en/latest/examples/sklearn/README.html)\n",
    "- [Locust](https://locust.io/)"
   ]
  },
  {
   "cell_type": "code",
   "execution_count": null,
   "id": "16fb2ad4-ec20-4744-bdf4-b26e55f8eb11",
   "metadata": {},
   "outputs": [],
   "source": []
  }
 ],
 "metadata": {
  "kernelspec": {
   "display_name": "Python 3 (ipykernel)",
   "language": "python",
   "name": "python3"
  },
  "language_info": {
   "codemirror_mode": {
    "name": "ipython",
    "version": 3
   },
   "file_extension": ".py",
   "mimetype": "text/x-python",
   "name": "python",
   "nbconvert_exporter": "python",
   "pygments_lexer": "ipython3",
   "version": "3.9.18"
  }
 },
 "nbformat": 4,
 "nbformat_minor": 5
}
